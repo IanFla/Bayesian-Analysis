{
 "cells": [
  {
   "cell_type": "code",
   "execution_count": 1,
   "metadata": {},
   "outputs": [],
   "source": [
    "import numpy as np\n",
    "import matplotlib.pyplot as plt\n",
    "from scipy.stats import multivariate_normal as mvnorm"
   ]
  },
  {
   "cell_type": "markdown",
   "metadata": {},
   "source": [
    "# S 5.2"
   ]
  },
  {
   "cell_type": "code",
   "execution_count": 2,
   "metadata": {},
   "outputs": [
    {
     "data": {
      "image/png": "[encoded data removed]",
      "text/plain": [
       "<Figure size 432x288 with 1 Axes>"
      ]
     },
     "metadata": {
      "needs_background": "light"
     },
     "output_type": "display_data"
    },
    {
     "name": "stdout",
     "output_type": "stream",
     "text": [
      "-0.24908824549145317 0.5005000000004791\n",
      "-0.24933758307474865 0.5319221313790751\n"
     ]
    }
   ],
   "source": [
    "n = 1000\n",
    "A = 0.5 * np.ones([n, n])\n",
    "A += np.diag(0.5 * np.ones(n))\n",
    "samples = mvnorm(cov=A).rvs()\n",
    "\n",
    "plt.hist(samples, bins=50)\n",
    "plt.show()\n",
    "\n",
    "mean = A[1:, 0].dot(np.linalg.inv(A[1:, 1:])).dot(samples[1:])\n",
    "var = 1 - A[1:, 0].dot(np.linalg.inv(A[1:, 1:])).dot(A[1:, 0])\n",
    "print(mean, var)\n",
    "print(np.mean(samples[1:]), np.var(samples[1:]))"
   ]
  },
  {
   "cell_type": "code",
   "execution_count": null,
   "metadata": {},
   "outputs": [],
   "source": []
  },
  {
   "cell_type": "code",
   "execution_count": null,
   "metadata": {},
   "outputs": [],
   "source": []
  }
 ],
 "metadata": {
  "kernelspec": {
   "display_name": "Python 3",
   "language": "python",
   "name": "python3"
  },
  "language_info": {
   "codemirror_mode": {
    "name": "ipython",
    "version": 3
   },
   "file_extension": ".py",
   "mimetype": "text/x-python",
   "name": "python",
   "nbconvert_exporter": "python",
   "pygments_lexer": "ipython3",
   "version": "3.9.2"
  }
 },
 "nbformat": 4,
 "nbformat_minor": 4
}
