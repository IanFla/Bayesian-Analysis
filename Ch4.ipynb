{
 "cells": [
  {
   "cell_type": "code",
   "execution_count": 1,
   "metadata": {},
   "outputs": [],
   "source": [
    "import numpy as np\n",
    "import matplotlib.pyplot as plt\n",
    "from scipy.stats import uniform, t, truncnorm"
   ]
  },
  {
   "cell_type": "markdown",
   "metadata": {},
   "source": [
    "# Ex 1"
   ]
  },
  {
   "cell_type": "code",
   "execution_count": 2,
   "metadata": {},
   "outputs": [
    {
     "name": "stdout",
     "output_type": "stream",
     "text": [
      "-0.13764927798912835 0.9363579926825081\n"
     ]
    },
    {
     "data": {
      "image/png": "[encoded data removed]",
      "text/plain": [
       "<Figure size 432x288 with 1 Axes>"
      ]
     },
     "metadata": {
      "needs_background": "light"
     },
     "output_type": "display_data"
    }
   ],
   "source": [
    "prior = lambda theta: (theta >= -1) * (theta <= 1)\n",
    "Y = np.array([-2, -1, 0, 1.5, 2.5])\n",
    "likelihood = lambda theta: np.prod([t(df=1, loc=theta).pdf(y) for y in Y], axis=0)\n",
    "posterior = lambda theta: prior(theta) * likelihood(theta)\n",
    "\n",
    "def iterate(theta0):\n",
    "    weights = 1 / (1 + (Y - theta0) ** 2)\n",
    "    weights /= weights.sum()\n",
    "    theta1 = (weights * Y).sum()\n",
    "    return theta1\n",
    "\n",
    "mode = [Y.mean()]\n",
    "for i in range(1000):\n",
    "    mode.append(iterate(mode[-1]))\n",
    "    \n",
    "mode = mode[-1]\n",
    "precision = np.sum(2 * (1 - (Y - mode) ** 2) / (1 + (Y + mode) ** 2) ** 2)\n",
    "scale = np.sqrt(1 / precision)\n",
    "print(mode, scale)\n",
    "def tnorm(loc, scale, a, b):\n",
    "    a = (a - loc) / scale\n",
    "    b = (b - loc) / scale\n",
    "    return truncnorm(loc=loc, scale=scale, a=a, b=b)\n",
    "\n",
    "theta = np.linspace(-1.1, 1.1, 1000)\n",
    "plt.plot(theta, posterior(theta) / (2.2 * posterior(theta).mean()))\n",
    "plt.plot(theta, tnorm(loc=mode, scale=scale, a=-1, b=1).pdf(theta))\n",
    "plt.show()"
   ]
  },
  {
   "cell_type": "code",
   "execution_count": null,
   "metadata": {},
   "outputs": [],
   "source": []
  },
  {
   "cell_type": "code",
   "execution_count": null,
   "metadata": {},
   "outputs": [],
   "source": []
  },
  {
   "cell_type": "code",
   "execution_count": null,
   "metadata": {},
   "outputs": [],
   "source": []
  },
  {
   "cell_type": "code",
   "execution_count": null,
   "metadata": {},
   "outputs": [],
   "source": []
  },
  {
   "cell_type": "code",
   "execution_count": null,
   "metadata": {},
   "outputs": [],
   "source": []
  },
  {
   "cell_type": "code",
   "execution_count": null,
   "metadata": {},
   "outputs": [],
   "source": []
  }
 ],
 "metadata": {
  "kernelspec": {
   "display_name": "Python 3",
   "language": "python",
   "name": "python3"
  },
  "language_info": {
   "codemirror_mode": {
    "name": "ipython",
    "version": 3
   },
   "file_extension": ".py",
   "mimetype": "text/x-python",
   "name": "python",
   "nbconvert_exporter": "python",
   "pygments_lexer": "ipython3",
   "version": "3.9.2"
  }
 },
 "nbformat": 4,
 "nbformat_minor": 4
}
