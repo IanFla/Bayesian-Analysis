{
 "cells": [
  {
   "cell_type": "code",
   "execution_count": 1,
   "metadata": {},
   "outputs": [],
   "source": [
    "import numpy as np\n",
    "import matplotlib.pyplot as plt\n",
    "from scipy.stats import norm, poisson, uniform"
   ]
  },
  {
   "cell_type": "markdown",
   "metadata": {},
   "source": [
    "# Ex 4"
   ]
  },
  {
   "cell_type": "code",
   "execution_count": 2,
   "metadata": {},
   "outputs": [
    {
     "name": "stdout",
     "output_type": "stream",
     "text": [
      "0.6666666666666666 0.7809911978646268\n",
      "0.4166666666666667 0.5\n",
      "0.6250000000000001 0.6402120809646661\n"
     ]
    }
   ],
   "source": [
    "outcomes = np.array([-7, -5, -3, -3, 1, 6, 7, 13, 15, 16, 20, 21])\n",
    "approx = norm(loc=8, scale=np.std(outcomes))\n",
    "Pr1 = np.mean(outcomes >= 0.5)\n",
    "print(Pr1, 1 - approx.cdf(0.5))\n",
    "Pr2 = np.mean(outcomes >= 8)\n",
    "print(Pr2, 1 - approx.cdf(8))\n",
    "Pr3 = Pr2 / Pr1\n",
    "print(Pr3, (1 - approx.cdf(8)) / (1 - approx.cdf(0.5)))"
   ]
  },
  {
   "cell_type": "markdown",
   "metadata": {},
   "source": [
    "# Ex 9"
   ]
  },
  {
   "cell_type": "code",
   "execution_count": 3,
   "metadata": {},
   "outputs": [],
   "source": [
    "def queuing(num):\n",
    "    number = poisson(mu=42).rvs()\n",
    "    patients = np.sort(uniform(scale = 7 * 60).rvs(size=number))\n",
    "    doctors = uniform(loc=5, scale=15).rvs(size=number)\n",
    "    waits = np.zeros(number)\n",
    "    for i, patient in enumerate(patients):\n",
    "        leaves = patients[:i] + waits[:i] + doctors[:i]\n",
    "        waitings = leaves[leaves > patient]\n",
    "        if waitings.size >= num:\n",
    "            waits[i] = waitings[np.argsort(waitings)[-num]] - patient\n",
    "            \n",
    "    waitor = np.sum(waits != 0)\n",
    "    average = 0 if waitor == 0 else waits[waits != 0].mean()\n",
    "    close = np.max(patients + waits + doctors)\n",
    "    return number, waitor, average, close\n",
    "\n",
    "def summary(data):\n",
    "    q1 = np.quantile(data, 0.25)\n",
    "    q2 = np.quantile(data, 0.5)\n",
    "    q3 = np.quantile(data, 0.75)\n",
    "    print(q1, q2, q3)\n",
    "    \n",
    "def experiment(K, num):\n",
    "    N1 = np.zeros(K)\n",
    "    N2 = np.zeros(K)\n",
    "    T1 = np.zeros(K)\n",
    "    T2 = np.zeros(K)\n",
    "    for k in range(K):\n",
    "        N1[k], N2[k], T1[k], T2[k] = queuing(num)\n",
    "\n",
    "    summary(N1)\n",
    "    summary(N2)\n",
    "    summary(T1)\n",
    "    summary(T2)"
   ]
  },
  {
   "cell_type": "code",
   "execution_count": 4,
   "metadata": {},
   "outputs": [
    {
     "name": "stdout",
     "output_type": "stream",
     "text": [
      "37.0 41.0 46.0\n",
      "34.0 39.0 44.0\n",
      "43.884871064237224 68.79742412481158 95.92058995511172\n",
      "493.90927785685227 546.0419636516217 598.3200131045669\n",
      "37.0 42.0 47.0\n",
      "13.0 18.0 25.0\n",
      "5.784516886715411 7.47497991685136 9.997353093383943\n",
      "421.2846668118887 428.38186534059207 435.2618549803673\n",
      "38.0 42.0 46.0\n",
      "3.0 5.0 9.0\n",
      "2.435167446008382 3.7719857505795766 5.1839975366573\n",
      "418.66789285282755 425.7814354884403 431.19928604236156\n",
      "38.0 41.0 46.0\n",
      "0.0 1.0 2.0\n",
      "0.0 0.8993646685572685 2.847994577233556\n",
      "418.39955946136763 425.5411658075214 431.15842037990177\n"
     ]
    }
   ],
   "source": [
    "experiment(2000, 1)\n",
    "experiment(2000, 2)\n",
    "experiment(2000, 3)\n",
    "experiment(2000, 4)"
   ]
  },
  {
   "cell_type": "code",
   "execution_count": null,
   "metadata": {},
   "outputs": [],
   "source": []
  },
  {
   "cell_type": "code",
   "execution_count": null,
   "metadata": {},
   "outputs": [],
   "source": []
  }
 ],
 "metadata": {
  "kernelspec": {
   "display_name": "Python 3",
   "language": "python",
   "name": "python3"
  },
  "language_info": {
   "codemirror_mode": {
    "name": "ipython",
    "version": 3
   },
   "file_extension": ".py",
   "mimetype": "text/x-python",
   "name": "python",
   "nbconvert_exporter": "python",
   "pygments_lexer": "ipython3",
   "version": "3.9.2"
  }
 },
 "nbformat": 4,
 "nbformat_minor": 4
}
