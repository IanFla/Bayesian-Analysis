{
 "cells": [
  {
   "cell_type": "code",
   "execution_count": 1,
   "metadata": {},
   "outputs": [],
   "source": [
    "import numpy as np\n",
    "import matplotlib.pyplot as plt\n",
    "from scipy.stats import norm"
   ]
  },
  {
   "cell_type": "markdown",
   "metadata": {},
   "source": [
    "# Ex 4"
   ]
  },
  {
   "cell_type": "code",
   "execution_count": 2,
   "metadata": {},
   "outputs": [
    {
     "name": "stdout",
     "output_type": "stream",
     "text": [
      "0.6666666666666666 0.7809911978646268\n",
      "0.4166666666666667 0.5\n",
      "0.6250000000000001 0.6402120809646661\n"
     ]
    }
   ],
   "source": [
    "outcomes = np.array([-7, -5, -3, -3, 1, 6, 7, 13, 15, 16, 20, 21])\n",
    "approx = norm(loc=8, scale=np.std(outcomes))\n",
    "Pr1 = np.mean(outcomes >= 0.5)\n",
    "print(Pr1, 1 - approx.cdf(0.5))\n",
    "Pr2 = np.mean(outcomes >= 8)\n",
    "print(Pr2, 1 - approx.cdf(8))\n",
    "Pr3 = Pr2 / Pr1\n",
    "print(Pr3, (1 - approx.cdf(8)) / (1 - approx.cdf(0.5)))"
   ]
  },
  {
   "cell_type": "markdown",
   "metadata": {},
   "source": [
    "# Ex "
   ]
  },
  {
   "cell_type": "code",
   "execution_count": null,
   "metadata": {},
   "outputs": [],
   "source": []
  },
  {
   "cell_type": "code",
   "execution_count": null,
   "metadata": {},
   "outputs": [],
   "source": []
  },
  {
   "cell_type": "code",
   "execution_count": null,
   "metadata": {},
   "outputs": [],
   "source": []
  },
  {
   "cell_type": "code",
   "execution_count": null,
   "metadata": {},
   "outputs": [],
   "source": []
  }
 ],
 "metadata": {
  "kernelspec": {
   "display_name": "Python 3",
   "language": "python",
   "name": "python3"
  },
  "language_info": {
   "codemirror_mode": {
    "name": "ipython",
    "version": 3
   },
   "file_extension": ".py",
   "mimetype": "text/x-python",
   "name": "python",
   "nbconvert_exporter": "python",
   "pygments_lexer": "ipython3",
   "version": "3.9.2"
  }
 },
 "nbformat": 4,
 "nbformat_minor": 4
}
